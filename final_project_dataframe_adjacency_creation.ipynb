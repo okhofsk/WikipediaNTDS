{
 "cells": [
  {
   "cell_type": "markdown",
   "metadata": {},
   "source": [
    "# Libraries"
   ]
  },
  {
   "cell_type": "code",
   "execution_count": 1,
   "metadata": {},
   "outputs": [],
   "source": [
    "import numpy as np\n",
    "import pandas as pd\n",
    "import matplotlib.pyplot as plt"
   ]
  },
  {
   "cell_type": "code",
   "execution_count": 2,
   "metadata": {
    "scrolled": true
   },
   "outputs": [],
   "source": [
    "dataframe = pd.read_csv('dataframe.tsv', sep='\\t', encoding='utf-8', engine='python') #complete dataframe from milestone 1\n",
    "adjacency = np.load('adjacency.npy') #complete undirected adjacency matrix"
   ]
  },
  {
   "cell_type": "code",
   "execution_count": 3,
   "metadata": {},
   "outputs": [],
   "source": [
    "#trouver les articles à retirer: ceux qui sont isolés ou appartiennent au second component\n",
    "connected_nodes = [0]\n",
    "    \n",
    "for node in connected_nodes:\n",
    "    connections = adjacency[node,:]\n",
    "\n",
    "    for i in range(len(connections)):\n",
    "        if connections[i] == 1 and i not in connected_nodes:\n",
    "            connected_nodes.append(i)    \n",
    "            \n",
    "connected_nodes.sort()\n",
    "\n",
    "disconnected_nodes = []\n",
    "j = 0\n",
    "for i in connected_nodes:\n",
    "    if i == 0:\n",
    "        continue\n",
    "    if i - j != 1:\n",
    "        disconnected_nodes.append(i-1)\n",
    "    j = i\n",
    "disconnected_titles = []\n",
    "for i in disconnected_nodes:\n",
    "    disconnected_titles.append(dataframe.loc[i,'title'])"
   ]
  },
  {
   "cell_type": "code",
   "execution_count": 4,
   "metadata": {},
   "outputs": [],
   "source": [
    "#reload everything\n",
    "articles = pd.read_csv('data/articles.tsv', sep='\\t', encoding='utf-8', engine='python', header=10)\n",
    "articles.columns = [\"title\"]\n",
    "categories = pd.read_csv('data/categories.tsv', sep='\\t', encoding='utf-8', engine='python', header=11)\n",
    "categories.columns = [\"category\"]\n",
    "links = pd.read_csv('data/links.tsv', sep='\\t', encoding='utf-8', engine='python', header=10)\n",
    "links.columns = [\"links\"]\n",
    "\n",
    "#completing categories with categoriless articles\n",
    "for idx, rows in articles.iterrows():\n",
    "    if articles.loc[idx,'title'] not in categories.index:\n",
    "        new_row = pd.DataFrame([\"None\"], columns={\"category\"})\n",
    "        new_row.index = [articles.loc[idx,'title']]\n",
    "        categories = categories.append(new_row)\n",
    "categories.sort_index(inplace=True)\n",
    "\n",
    "#remove the disconnected articles from articles, categories and links\n",
    "articles = articles.drop(disconnected_nodes)\n",
    "articles.reset_index(level=0, inplace=True, drop=True)\n",
    "\n",
    "categories = categories.drop(disconnected_titles)\n",
    "\n",
    "for title in disconnected_titles:\n",
    "    if title in links.index:\n",
    "        links = links.drop(title)"
   ]
  },
  {
   "cell_type": "code",
   "execution_count": 5,
   "metadata": {},
   "outputs": [],
   "source": [
    "#creating the dataframe (code from milestone 1)\n",
    "dataframe = categories\n",
    "dataframe.reset_index(level=0, inplace=True)\n",
    "dataframe = dataframe.rename(columns={'index':'title'})\n",
    "dataframe.reset_index(level=0, inplace=True)\n",
    "dataframe = dataframe.rename(columns={'index':'cat_idx'})\n",
    "\n",
    "cur_t = dataframe.loc[0, 'title']\n",
    "for idx, row in dataframe.iterrows():\n",
    "    if idx == 0:\n",
    "        continue #ignore first row\n",
    "    if dataframe.loc[idx, 'title'] == cur_t:\n",
    "        dataframe.loc[idx, 'cat_idx'] = dataframe.loc[idx-1, 'cat_idx'] + 1\n",
    "    else:\n",
    "        cur_t = dataframe.loc[idx, 'title']\n",
    "        dataframe.loc[idx, 'cat_idx'] = 0\n",
    "        \n",
    "dataframe = dataframe.pivot(index='title', columns='cat_idx', values='category')\n",
    "dataframe = dataframe.rename(columns={0:'Label1'})\n",
    "dataframe = dataframe.rename(columns={1:'Label2'})\n",
    "dataframe = dataframe.rename(columns={2:'Label3'})"
   ]
  },
  {
   "cell_type": "code",
   "execution_count": 6,
   "metadata": {},
   "outputs": [],
   "source": [
    "#directed adjacency matrix creation\n",
    "articles.reset_index(level=0, inplace=True)\n",
    "articles = articles.rename(columns={'index':'node_idx'})\n",
    "art_to_idx = articles[['node_idx', 'title']]\n",
    "art_to_idx = art_to_idx.set_index('title')\n",
    "\n",
    "links.reset_index(level=0, inplace=True)\n",
    "links = links.join(art_to_idx, on='index')\n",
    "links = links.join(art_to_idx, on='links', rsuffix='_parent')\n",
    "links = links.drop(columns=['index','links'])\n",
    "\n",
    "n_nodes = len(articles)\n",
    "adjacency = np.zeros((n_nodes, n_nodes), dtype=int)\n",
    "\n",
    "for idx, row in links.iterrows():\n",
    "    if np.isnan(row.node_idx_parent):\n",
    "        continue\n",
    "    i, j = int(row.node_idx), int(row.node_idx_parent)\n",
    "    adjacency[i, j] = 1"
   ]
  },
  {
   "cell_type": "code",
   "execution_count": 7,
   "metadata": {},
   "outputs": [],
   "source": [
    "dataframe.to_csv('dataframe_final.tsv', sep='\\t', encoding='utf-8')\n",
    "np.save('adjacency_final.npy', adjacency)"
   ]
  }
 ],
 "metadata": {
  "kernelspec": {
   "display_name": "Python 3",
   "language": "python",
   "name": "python3"
  },
  "language_info": {
   "codemirror_mode": {
    "name": "ipython",
    "version": 3
   },
   "file_extension": ".py",
   "mimetype": "text/x-python",
   "name": "python",
   "nbconvert_exporter": "python",
   "pygments_lexer": "ipython3",
   "version": "3.6.6"
  }
 },
 "nbformat": 4,
 "nbformat_minor": 2
}
